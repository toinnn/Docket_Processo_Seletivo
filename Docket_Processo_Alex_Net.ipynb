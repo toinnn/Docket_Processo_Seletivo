{
  "nbformat": 4,
  "nbformat_minor": 0,
  "metadata": {
    "colab": {
      "name": "Docket_Processo_Alex_Net.ipynb",
      "provenance": [],
      "authorship_tag": "ABX9TyN0z7LDC8xJtaouppFd0hTv",
      "include_colab_link": true
    },
    "kernelspec": {
      "name": "python3",
      "display_name": "Python 3"
    },
    "language_info": {
      "name": "python"
    }
  },
  "cells": [
    {
      "cell_type": "markdown",
      "metadata": {
        "id": "view-in-github",
        "colab_type": "text"
      },
      "source": [
        "<a href=\"https://colab.research.google.com/github/toinnn/Docket_Processo_Seletivo/blob/master/Docket_Processo_Alex_Net.ipynb\" target=\"_parent\"><img src=\"https://colab.research.google.com/assets/colab-badge.svg\" alt=\"Open In Colab\"/></a>"
      ]
    },
    {
      "cell_type": "code",
      "source": [
        "from google.colab import drive\n",
        "drive.mount('/content/drive')"
      ],
      "metadata": {
        "colab": {
          "base_uri": "https://localhost:8080/"
        },
        "id": "FRPb-Uzf8n6g",
        "outputId": "b749ef86-6d10-4e05-cdc2-a78befafdcaf"
      },
      "execution_count": 1,
      "outputs": [
        {
          "output_type": "stream",
          "name": "stdout",
          "text": [
            "Mounted at /content/drive\n"
          ]
        }
      ]
    },
    {
      "cell_type": "code",
      "execution_count": 10,
      "metadata": {
        "colab": {
          "base_uri": "https://localhost:8080/",
          "height": 1000
        },
        "id": "KSjYSwE8Tzk5",
        "outputId": "6eae8119-062f-4499-d6ca-2fc1778f1cb6"
      },
      "outputs": [
        {
          "output_type": "stream",
          "name": "stdout",
          "text": [
            "Model: \"sequential_8\"\n",
            "_________________________________________________________________\n",
            " Layer (type)                Output Shape              Param #   \n",
            "=================================================================\n",
            " conv2d_24 (Conv2D)          (None, 148, 148, 32)      896       \n",
            "                                                                 \n",
            " activation_40 (Activation)  (None, 148, 148, 32)      0         \n",
            "                                                                 \n",
            " max_pooling2d_24 (MaxPoolin  (None, 74, 74, 32)       0         \n",
            " g2D)                                                            \n",
            "                                                                 \n",
            " conv2d_25 (Conv2D)          (None, 74, 74, 32)        9248      \n",
            "                                                                 \n",
            " activation_41 (Activation)  (None, 74, 74, 32)        0         \n",
            "                                                                 \n",
            " max_pooling2d_25 (MaxPoolin  (None, 37, 37, 32)       0         \n",
            " g2D)                                                            \n",
            "                                                                 \n",
            " conv2d_26 (Conv2D)          (None, 37, 37, 64)        18496     \n",
            "                                                                 \n",
            " activation_42 (Activation)  (None, 37, 37, 64)        0         \n",
            "                                                                 \n",
            " max_pooling2d_26 (MaxPoolin  (None, 19, 19, 64)       0         \n",
            " g2D)                                                            \n",
            "                                                                 \n",
            " flatten_8 (Flatten)         (None, 23104)             0         \n",
            "                                                                 \n",
            " dense_16 (Dense)            (None, 64)                1478720   \n",
            "                                                                 \n",
            " activation_43 (Activation)  (None, 64)                0         \n",
            "                                                                 \n",
            " dropout_8 (Dropout)         (None, 64)                0         \n",
            "                                                                 \n",
            " dense_17 (Dense)            (None, 3)                 195       \n",
            "                                                                 \n",
            " activation_44 (Activation)  (None, 3)                 0         \n",
            "                                                                 \n",
            "=================================================================\n",
            "Total params: 1,507,555\n",
            "Trainable params: 1,507,555\n",
            "Non-trainable params: 0\n",
            "_________________________________________________________________\n",
            "Found 252 images belonging to 3 classes.\n",
            "Found 63 images belonging to 3 classes.\n"
          ]
        },
        {
          "output_type": "stream",
          "name": "stderr",
          "text": [
            "/usr/local/lib/python3.7/dist-packages/ipykernel_launcher.py:68: UserWarning: `Model.fit_generator` is deprecated and will be removed in a future version. Please use `Model.fit`, which supports generators.\n"
          ]
        },
        {
          "output_type": "stream",
          "name": "stdout",
          "text": [
            "Epoch 1/15\n",
            "1/1 [==============================] - 4s 4s/step - loss: 1.1506 - accuracy: 0.1875\n",
            "Epoch 2/15\n",
            "1/1 [==============================] - 2s 2s/step - loss: 8.6672 - accuracy: 0.3750\n",
            "Epoch 3/15\n",
            "1/1 [==============================] - 1s 1s/step - loss: 24.3660 - accuracy: 0.1875\n",
            "Epoch 4/15\n",
            "1/1 [==============================] - 1s 1s/step - loss: 13.4060 - accuracy: 0.2500\n",
            "Epoch 5/15\n",
            "1/1 [==============================] - 1s 1s/step - loss: 23.2082 - accuracy: 0.3125\n",
            "Epoch 6/15\n",
            "1/1 [==============================] - 2s 2s/step - loss: 4.1473 - accuracy: 0.3750\n",
            "Epoch 7/15\n",
            "1/1 [==============================] - 1s 1s/step - loss: 5.5558 - accuracy: 0.3750\n",
            "Epoch 8/15\n",
            "1/1 [==============================] - 1s 1s/step - loss: 2.7232 - accuracy: 0.3750\n",
            "Epoch 9/15\n",
            "1/1 [==============================] - 1s 923ms/step - loss: 2.5547 - accuracy: 0.4167\n",
            "Epoch 10/15\n",
            "1/1 [==============================] - 1s 1s/step - loss: 1.1205 - accuracy: 0.6875\n",
            "Epoch 11/15\n",
            "1/1 [==============================] - 1s 1s/step - loss: 1.1037 - accuracy: 0.4375\n",
            "Epoch 12/15\n",
            "1/1 [==============================] - 1s 1s/step - loss: 1.0498 - accuracy: 0.5000\n",
            "Epoch 13/15\n",
            "1/1 [==============================] - 1s 1s/step - loss: 0.7343 - accuracy: 0.6250\n",
            "Epoch 14/15\n",
            "1/1 [==============================] - 2s 2s/step - loss: 1.1572 - accuracy: 0.5000\n",
            "Epoch 15/15\n",
            "1/1 [==============================] - 1s 1s/step - loss: 1.0342 - accuracy: 0.5000\n",
            "dict_keys(['loss', 'accuracy'])\n"
          ]
        },
        {
          "output_type": "error",
          "ename": "KeyError",
          "evalue": "ignored",
          "traceback": [
            "\u001b[0;31m---------------------------------------------------------------------------\u001b[0m",
            "\u001b[0;31mKeyError\u001b[0m                                  Traceback (most recent call last)",
            "\u001b[0;32m<ipython-input-10-2bea7e9d7224>\u001b[0m in \u001b[0;36m<module>\u001b[0;34m()\u001b[0m\n\u001b[1;32m     74\u001b[0m \u001b[0;31m#Assigning the first subplot to graph training loss and validation loss\u001b[0m\u001b[0;34m\u001b[0m\u001b[0;34m\u001b[0m\u001b[0;34m\u001b[0m\u001b[0m\n\u001b[1;32m     75\u001b[0m \u001b[0max\u001b[0m\u001b[0;34m[\u001b[0m\u001b[0;36m0\u001b[0m\u001b[0;34m]\u001b[0m\u001b[0;34m.\u001b[0m\u001b[0mplot\u001b[0m\u001b[0;34m(\u001b[0m\u001b[0mmodel\u001b[0m\u001b[0;34m.\u001b[0m\u001b[0mhistory\u001b[0m\u001b[0;34m.\u001b[0m\u001b[0mhistory\u001b[0m\u001b[0;34m[\u001b[0m\u001b[0;34m'loss'\u001b[0m\u001b[0;34m]\u001b[0m\u001b[0;34m,\u001b[0m\u001b[0mcolor\u001b[0m\u001b[0;34m=\u001b[0m\u001b[0;34m'b'\u001b[0m\u001b[0;34m,\u001b[0m\u001b[0mlabel\u001b[0m\u001b[0;34m=\u001b[0m\u001b[0;34m'Training Loss'\u001b[0m\u001b[0;34m)\u001b[0m\u001b[0;34m\u001b[0m\u001b[0;34m\u001b[0m\u001b[0m\n\u001b[0;32m---> 76\u001b[0;31m \u001b[0max\u001b[0m\u001b[0;34m[\u001b[0m\u001b[0;36m0\u001b[0m\u001b[0;34m]\u001b[0m\u001b[0;34m.\u001b[0m\u001b[0mplot\u001b[0m\u001b[0;34m(\u001b[0m\u001b[0mmodel\u001b[0m\u001b[0;34m.\u001b[0m\u001b[0mhistory\u001b[0m\u001b[0;34m.\u001b[0m\u001b[0mhistory\u001b[0m\u001b[0;34m[\u001b[0m\u001b[0;34m'val_loss'\u001b[0m\u001b[0;34m]\u001b[0m\u001b[0;34m,\u001b[0m\u001b[0mcolor\u001b[0m\u001b[0;34m=\u001b[0m\u001b[0;34m'r'\u001b[0m\u001b[0;34m,\u001b[0m\u001b[0mlabel\u001b[0m\u001b[0;34m=\u001b[0m\u001b[0;34m'Validation Loss'\u001b[0m\u001b[0;34m)\u001b[0m\u001b[0;34m\u001b[0m\u001b[0;34m\u001b[0m\u001b[0m\n\u001b[0m\u001b[1;32m     77\u001b[0m \u001b[0;34m\u001b[0m\u001b[0m\n\u001b[1;32m     78\u001b[0m \u001b[0;31m#Plotting the training accuracy and validation accuracy\u001b[0m\u001b[0;34m\u001b[0m\u001b[0;34m\u001b[0m\u001b[0;34m\u001b[0m\u001b[0m\n",
            "\u001b[0;31mKeyError\u001b[0m: 'val_loss'"
          ]
        },
        {
          "output_type": "display_data",
          "data": {
            "text/plain": [
              "<Figure size 432x288 with 2 Axes>"
            ],
            "image/png": "[encoded data removed]"
          },
          "metadata": {
            "needs_background": "light"
          }
        }
      ],
      "source": [
        "from keras.preprocessing.image import ImageDataGenerator, array_to_img, img_to_array, load_img\n",
        "from keras.models import Sequential\n",
        "from keras.layers import Conv2D, MaxPooling2D\n",
        "from keras.layers import Activation, Dropout, Flatten, Dense\n",
        "import matplotlib.pyplot as plt\n",
        "\n",
        "\n",
        "train_Path = \"/content/drive/MyDrive/Github_Dir/Docket_Processo/Dataset/Simplest/Train\"\n",
        "test_Path  = \"/content/drive/MyDrive/Github_Dir/Docket_Processo/Dataset/Simplest/Test\"\n",
        "\n",
        "\n",
        "model = Sequential()\n",
        "model.add(Conv2D(32, (3, 3), input_shape=( 150, 150 , 3) ))\n",
        "model.add(Activation('elu'))\n",
        "model.add(MaxPooling2D(pool_size=(2, 2) , padding = 'same' ))\n",
        "\n",
        "model.add(Conv2D(32, (3, 3) , padding = 'same'))\n",
        "model.add(Activation('elu'))\n",
        "model.add(MaxPooling2D(pool_size=(2, 2) , padding ='same'))\n",
        "\n",
        "model.add(Conv2D(64, (3, 3) , padding = 'same'))\n",
        "model.add(Activation('elu'))\n",
        "model.add(MaxPooling2D(pool_size=(2, 2) , padding = 'same' ))\n",
        "\n",
        "# the model so far outputs 3D feature maps (height, width, features)\n",
        "\n",
        "model.add(Flatten())  # this converts our 3D feature maps to 1D feature vectors\n",
        "model.add(Dense(64))\n",
        "model.add(Activation('elu'))\n",
        "model.add(Dropout(0.5))\n",
        "model.add(Dense(3))\n",
        "model.add(Activation('softmax'))\n",
        "model.summary()\n",
        "\n",
        "model.compile( loss = 'categorical_crossentropy' , optimizer = 'rmsprop' , metrics = ['accuracy'] )\n",
        "\n",
        "batch_size = 16\n",
        "\n",
        "# this is the augmentation configuration we will use for training\n",
        "train_datagen = ImageDataGenerator(\n",
        "        rescale=1./255,\n",
        "        shear_range=0.2,\n",
        "        zoom_range=0.2,\n",
        "        horizontal_flip=True)\n",
        "\n",
        "# this is the augmentation configuration we will use for testing:\n",
        "# only rescaling\n",
        "test_datagen = ImageDataGenerator(rescale=1./255)\n",
        "\n",
        "# this is a generator that will read pictures found in\n",
        "# subfolers of 'data/train', and indefinitely generate\n",
        "# batches of augmented image data\n",
        "train_generator = train_datagen.flow_from_directory(\n",
        "        train_Path ,  # this is the target directory\n",
        "        target_size=(150, 150) ,  # all images will be resized to 150x150\n",
        "        batch_size=batch_size )# , class_mode = 'binary' )  # since we use binary_crossentropy loss, we need binary labels\n",
        "\n",
        "# this is a similar generator, for validation data\n",
        "validation_generator = test_datagen.flow_from_directory(\n",
        "        test_Path ,\n",
        "        target_size=(150, 150) , batch_size = batch_size , )#class_mode = 'binary')\n",
        "\n",
        "model.fit_generator(\n",
        "        train_generator,\n",
        "        steps_per_epoch = 20 // batch_size,#2000\n",
        "        epochs = 15 ,\n",
        "        validation_data=validation_generator ,\n",
        "        validation_steps = 4 // batch_size)#432\n",
        "\n",
        "#Plotting the training and validation loss\n",
        "print(model.history.history.keys())\n",
        "f,ax=plt.subplots(2,1) #Creates 2 subplots under 1 column\n",
        "\n",
        "#Assigning the first subplot to graph training loss and validation loss\n",
        "ax[0].plot(model.history.history['loss'],color='b',label='Training Loss')\n",
        "ax[0].plot(model.history.history['val_loss'],color='r',label='Validation Loss')\n",
        "\n",
        "#Plotting the training accuracy and validation accuracy\n",
        "ax[1].plot(model.history.history['accuracy'],color='b',label='Training  Accuracy')\n",
        "ax[1].plot(model.history.history['val_accuracy'],color='r',label='Validation Accuracy')\n",
        "\n",
        "plt.legend()        \n"
      ]
    }
  ]
}