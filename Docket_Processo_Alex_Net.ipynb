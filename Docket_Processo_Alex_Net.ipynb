{
  "nbformat": 4,
  "nbformat_minor": 0,
  "metadata": {
    "colab": {
      "name": "Docket_Processo_Alex_Net.ipynb",
      "provenance": [],
      "authorship_tag": "ABX9TyM/CnchC1dTrAdPBlCeAvnW",
      "include_colab_link": true
    },
    "kernelspec": {
      "name": "python3",
      "display_name": "Python 3"
    },
    "language_info": {
      "name": "python"
    }
  },
  "cells": [
    {
      "cell_type": "markdown",
      "metadata": {
        "id": "view-in-github",
        "colab_type": "text"
      },
      "source": [
        "<a href=\"https://colab.research.google.com/github/toinnn/Docket_Processo_Seletivo/blob/master/Docket_Processo_Alex_Net.ipynb\" target=\"_parent\"><img src=\"https://colab.research.google.com/assets/colab-badge.svg\" alt=\"Open In Colab\"/></a>"
      ]
    },
    {
      "cell_type": "code",
      "source": [
        "from google.colab import drive\n",
        "drive.mount('/content/drive')"
      ],
      "metadata": {
        "colab": {
          "base_uri": "https://localhost:8080/"
        },
        "id": "FRPb-Uzf8n6g",
        "outputId": "ae5dcc40-2fcc-4046-9cf1-ca77589d6062"
      },
      "execution_count": 24,
      "outputs": [
        {
          "output_type": "stream",
          "name": "stdout",
          "text": [
            "Drive already mounted at /content/drive; to attempt to forcibly remount, call drive.mount(\"/content/drive\", force_remount=True).\n"
          ]
        }
      ]
    },
    {
      "cell_type": "code",
      "execution_count": 51,
      "metadata": {
        "colab": {
          "base_uri": "https://localhost:8080/",
          "height": 1000
        },
        "id": "KSjYSwE8Tzk5",
        "outputId": "29ca900c-a338-4d3a-81fa-10396755f59e"
      },
      "outputs": [
        {
          "output_type": "stream",
          "name": "stdout",
          "text": [
            "Model: \"sequential_29\"\n",
            "_________________________________________________________________\n",
            " Layer (type)                Output Shape              Param #   \n",
            "=================================================================\n",
            " conv2d_87 (Conv2D)          (None, 148, 148, 32)      896       \n",
            "                                                                 \n",
            " activation_145 (Activation)  (None, 148, 148, 32)     0         \n",
            "                                                                 \n",
            " max_pooling2d_87 (MaxPoolin  (None, 74, 74, 32)       0         \n",
            " g2D)                                                            \n",
            "                                                                 \n",
            " conv2d_88 (Conv2D)          (None, 74, 74, 32)        9248      \n",
            "                                                                 \n",
            " activation_146 (Activation)  (None, 74, 74, 32)       0         \n",
            "                                                                 \n",
            " max_pooling2d_88 (MaxPoolin  (None, 37, 37, 32)       0         \n",
            " g2D)                                                            \n",
            "                                                                 \n",
            " conv2d_89 (Conv2D)          (None, 37, 37, 64)        18496     \n",
            "                                                                 \n",
            " activation_147 (Activation)  (None, 37, 37, 64)       0         \n",
            "                                                                 \n",
            " max_pooling2d_89 (MaxPoolin  (None, 19, 19, 64)       0         \n",
            " g2D)                                                            \n",
            "                                                                 \n",
            " flatten_29 (Flatten)        (None, 23104)             0         \n",
            "                                                                 \n",
            " dense_58 (Dense)            (None, 64)                1478720   \n",
            "                                                                 \n",
            " activation_148 (Activation)  (None, 64)               0         \n",
            "                                                                 \n",
            " dropout_29 (Dropout)        (None, 64)                0         \n",
            "                                                                 \n",
            " dense_59 (Dense)            (None, 3)                 195       \n",
            "                                                                 \n",
            " activation_149 (Activation)  (None, 3)                0         \n",
            "                                                                 \n",
            "=================================================================\n",
            "Total params: 1,507,555\n",
            "Trainable params: 1,507,555\n",
            "Non-trainable params: 0\n",
            "_________________________________________________________________\n",
            "Found 252 images belonging to 3 classes.\n",
            "Found 63 images belonging to 3 classes.\n"
          ]
        },
        {
          "output_type": "stream",
          "name": "stderr",
          "text": [
            "/usr/local/lib/python3.7/dist-packages/ipykernel_launcher.py:84: UserWarning: `Model.fit_generator` is deprecated and will be removed in a future version. Please use `Model.fit`, which supports generators.\n"
          ]
        },
        {
          "output_type": "stream",
          "name": "stdout",
          "text": [
            "Epoch 1/15\n",
            "5/5 [==============================] - ETA: 0s - loss: 10.6436 - accuracy: 0.2875 - categorical_accuracy: 0.2875\n",
            "Epoch 1: val_accuracy improved from -inf to 0.18750, saving model to /content/drive/MyDrive/Github_Dir/Docket_Processo/Dataset/Simplest/model_5.h5\n",
            "5/5 [==============================] - 10s 2s/step - loss: 10.6436 - accuracy: 0.2875 - categorical_accuracy: 0.2875 - val_loss: 7.8938 - val_accuracy: 0.1875 - val_categorical_accuracy: 0.1875\n",
            "Epoch 2/15\n",
            "5/5 [==============================] - ETA: 0s - loss: 6.4609 - accuracy: 0.3000 - categorical_accuracy: 0.3000\n",
            "Epoch 2: val_accuracy improved from 0.18750 to 0.56250, saving model to /content/drive/MyDrive/Github_Dir/Docket_Processo/Dataset/Simplest/model_5.h5\n",
            "5/5 [==============================] - 8s 1s/step - loss: 6.4609 - accuracy: 0.3000 - categorical_accuracy: 0.3000 - val_loss: 1.4741 - val_accuracy: 0.5625 - val_categorical_accuracy: 0.5625\n",
            "Epoch 3/15\n",
            "5/5 [==============================] - ETA: 0s - loss: 1.7053 - accuracy: 0.3289 - categorical_accuracy: 0.3289\n",
            "Epoch 3: val_accuracy did not improve from 0.56250\n",
            "5/5 [==============================] - 7s 2s/step - loss: 1.7053 - accuracy: 0.3289 - categorical_accuracy: 0.3289 - val_loss: 0.9531 - val_accuracy: 0.5000 - val_categorical_accuracy: 0.5000\n",
            "Epoch 4/15\n",
            "5/5 [==============================] - ETA: 0s - loss: 1.2505 - accuracy: 0.5625 - categorical_accuracy: 0.5625\n",
            "Epoch 4: val_accuracy did not improve from 0.56250\n",
            "5/5 [==============================] - 7s 1s/step - loss: 1.2505 - accuracy: 0.5625 - categorical_accuracy: 0.5625 - val_loss: 0.9289 - val_accuracy: 0.4375 - val_categorical_accuracy: 0.4375\n",
            "Epoch 5/15\n",
            "5/5 [==============================] - ETA: 0s - loss: 1.3649 - accuracy: 0.5250 - categorical_accuracy: 0.5250\n",
            "Epoch 5: val_accuracy did not improve from 0.56250\n",
            "5/5 [==============================] - 8s 2s/step - loss: 1.3649 - accuracy: 0.5250 - categorical_accuracy: 0.5250 - val_loss: 0.7849 - val_accuracy: 0.5625 - val_categorical_accuracy: 0.5625\n",
            "Epoch 6/15\n",
            "5/5 [==============================] - ETA: 0s - loss: 1.4478 - accuracy: 0.5000 - categorical_accuracy: 0.5000\n",
            "Epoch 6: val_accuracy did not improve from 0.56250\n",
            "5/5 [==============================] - 8s 2s/step - loss: 1.4478 - accuracy: 0.5000 - categorical_accuracy: 0.5000 - val_loss: 1.2373 - val_accuracy: 0.5000 - val_categorical_accuracy: 0.5000\n",
            "Epoch 7/15\n",
            "5/5 [==============================] - ETA: 0s - loss: 1.2505 - accuracy: 0.5375 - categorical_accuracy: 0.5375\n",
            "Epoch 7: val_accuracy improved from 0.56250 to 0.62500, saving model to /content/drive/MyDrive/Github_Dir/Docket_Processo/Dataset/Simplest/model_5.h5\n",
            "5/5 [==============================] - 9s 2s/step - loss: 1.2505 - accuracy: 0.5375 - categorical_accuracy: 0.5375 - val_loss: 0.7476 - val_accuracy: 0.6250 - val_categorical_accuracy: 0.6250\n",
            "Epoch 8/15\n",
            "5/5 [==============================] - ETA: 0s - loss: 1.3317 - accuracy: 0.4875 - categorical_accuracy: 0.4875\n",
            "Epoch 8: val_accuracy improved from 0.62500 to 0.68750, saving model to /content/drive/MyDrive/Github_Dir/Docket_Processo/Dataset/Simplest/model_5.h5\n",
            "5/5 [==============================] - 8s 2s/step - loss: 1.3317 - accuracy: 0.4875 - categorical_accuracy: 0.4875 - val_loss: 0.7624 - val_accuracy: 0.6875 - val_categorical_accuracy: 0.6875\n",
            "Epoch 9/15\n",
            "5/5 [==============================] - ETA: 0s - loss: 1.3060 - accuracy: 0.5000 - categorical_accuracy: 0.5000\n",
            "Epoch 9: val_accuracy did not improve from 0.68750\n",
            "5/5 [==============================] - 8s 2s/step - loss: 1.3060 - accuracy: 0.5000 - categorical_accuracy: 0.5000 - val_loss: 1.1982 - val_accuracy: 0.5625 - val_categorical_accuracy: 0.5625\n",
            "Epoch 10/15\n",
            "5/5 [==============================] - ETA: 0s - loss: 1.9196 - accuracy: 0.4474 - categorical_accuracy: 0.4474\n",
            "Epoch 10: val_accuracy did not improve from 0.68750\n",
            "5/5 [==============================] - 8s 2s/step - loss: 1.9196 - accuracy: 0.4474 - categorical_accuracy: 0.4474 - val_loss: 0.7310 - val_accuracy: 0.6875 - val_categorical_accuracy: 0.6875\n",
            "Epoch 11/15\n",
            "5/5 [==============================] - ETA: 0s - loss: 1.4959 - accuracy: 0.5263 - categorical_accuracy: 0.5263\n",
            "Epoch 11: val_accuracy did not improve from 0.68750\n",
            "5/5 [==============================] - 7s 2s/step - loss: 1.4959 - accuracy: 0.5263 - categorical_accuracy: 0.5263 - val_loss: 0.8036 - val_accuracy: 0.6875 - val_categorical_accuracy: 0.6875\n",
            "Epoch 12/15\n",
            "5/5 [==============================] - ETA: 0s - loss: 1.1498 - accuracy: 0.5000 - categorical_accuracy: 0.5000\n",
            "Epoch 12: val_accuracy improved from 0.68750 to 0.75000, saving model to /content/drive/MyDrive/Github_Dir/Docket_Processo/Dataset/Simplest/model_5.h5\n",
            "5/5 [==============================] - 8s 2s/step - loss: 1.1498 - accuracy: 0.5000 - categorical_accuracy: 0.5000 - val_loss: 0.6253 - val_accuracy: 0.7500 - val_categorical_accuracy: 0.7500\n",
            "Epoch 13/15\n",
            "5/5 [==============================] - ETA: 0s - loss: 1.0472 - accuracy: 0.5526 - categorical_accuracy: 0.5526\n",
            "Epoch 13: val_accuracy did not improve from 0.75000\n",
            "5/5 [==============================] - 8s 2s/step - loss: 1.0472 - accuracy: 0.5526 - categorical_accuracy: 0.5526 - val_loss: 0.7869 - val_accuracy: 0.6250 - val_categorical_accuracy: 0.6250\n",
            "Epoch 14/15\n",
            "5/5 [==============================] - ETA: 0s - loss: 1.3246 - accuracy: 0.4500 - categorical_accuracy: 0.4500\n",
            "Epoch 14: val_accuracy did not improve from 0.75000\n",
            "5/5 [==============================] - 8s 1s/step - loss: 1.3246 - accuracy: 0.4500 - categorical_accuracy: 0.4500 - val_loss: 0.5935 - val_accuracy: 0.7500 - val_categorical_accuracy: 0.7500\n",
            "Epoch 15/15\n",
            "5/5 [==============================] - ETA: 0s - loss: 1.0242 - accuracy: 0.6316 - categorical_accuracy: 0.6316\n",
            "Epoch 15: val_accuracy did not improve from 0.75000\n",
            "5/5 [==============================] - 8s 2s/step - loss: 1.0242 - accuracy: 0.6316 - categorical_accuracy: 0.6316 - val_loss: 0.7682 - val_accuracy: 0.5000 - val_categorical_accuracy: 0.5000\n"
          ]
        },
        {
          "output_type": "execute_result",
          "data": {
            "text/plain": [
              "<matplotlib.legend.Legend at 0x7f4ee5a51e90>"
            ]
          },
          "metadata": {},
          "execution_count": 51
        },
        {
          "output_type": "display_data",
          "data": {
            "text/plain": [
              "<Figure size 432x288 with 2 Axes>"
            ],
            "image/png": "[encoded data removed]"
          },
          "metadata": {
            "needs_background": "light"
          }
        }
      ],
      "source": [
        "from keras import callbacks\n",
        "from keras.preprocessing.image import ImageDataGenerator, array_to_img, img_to_array, load_img\n",
        "from keras.models import Sequential\n",
        "from keras.layers import Conv2D, MaxPooling2D\n",
        "from keras.layers import Activation, Dropout, Flatten, Dense\n",
        "from keras.callbacks import ModelCheckpoint\n",
        "import matplotlib.pyplot as plt\n",
        "\n",
        "\n",
        "train_Path = \"/content/drive/MyDrive/Github_Dir/Docket_Processo/Dataset/Simplest/Train\"\n",
        "test_Path  = \"/content/drive/MyDrive/Github_Dir/Docket_Processo/Dataset/Simplest/Test\"\n",
        "\n",
        "\n",
        "model = Sequential()\n",
        "model.add(Conv2D(32, (3, 3), input_shape=( 150, 150 , 3) ))\n",
        "model.add(Activation('elu'))\n",
        "model.add(MaxPooling2D(pool_size=(2, 2) , padding = 'same' ))\n",
        "\n",
        "model.add(Conv2D(32, (3, 3) , padding = 'same'))\n",
        "model.add(Activation('elu'))\n",
        "model.add(MaxPooling2D(pool_size=(2, 2) , padding ='same'))\n",
        "\n",
        "model.add(Conv2D(64, (3, 3) , padding = 'same'))\n",
        "model.add(Activation('elu'))\n",
        "model.add(MaxPooling2D(pool_size=(2, 2) , padding = 'same' ))\n",
        "\n",
        "# the model so far outputs 3D feature maps (height, width, features)\n",
        "\n",
        "model.add(Flatten())  # this converts our 3D feature maps to 1D feature vectors\n",
        "model.add(Dense(64))\n",
        "model.add(Activation('elu'))\n",
        "model.add(Dropout(0.5))\n",
        "model.add(Dense(3))\n",
        "model.add(Activation('softmax'))\n",
        "model.summary()\n",
        "\n",
        "model.compile( loss = 'categorical_crossentropy' , optimizer = 'rmsprop' , metrics = ['accuracy' , \"categorical_accuracy\"] )\n",
        "\n",
        "tentativa_Número = 5\n",
        "base_path  = \"/content/drive/MyDrive/Github_Dir/Docket_Processo/Dataset/Simplest/\"\n",
        "save_path  = \"/content/drive/MyDrive/Github_Dir/Docket_Processo/Dataset/Simplest/\" + f\"model_{tentativa_Número}.h5\"\n",
        "checkpoint = ModelCheckpoint(filepath = save_path ,\n",
        "                             monitor  = \"val_accuracy\",\n",
        "                             verbose  = 1, \n",
        "                             save_best_only=True,\n",
        "                             mode = \"max\")\n",
        "\n",
        "batch_size = 16\n",
        "\n",
        "# this is the augmentation configuration we will use for training\n",
        "train_datagen = ImageDataGenerator(\n",
        "        rescale=1./255,\n",
        "        shear_range=0.2,\n",
        "        zoom_range=0.2,\n",
        "        horizontal_flip=True)\n",
        "\n",
        "# this is the augmentation configuration we will use for testing:\n",
        "# only rescaling\n",
        "test_datagen = ImageDataGenerator(rescale=1./255)\n",
        "\n",
        "# this is a generator that will read pictures found in\n",
        "# subfolers of 'data/train', and indefinitely generate\n",
        "# batches of augmented image data\n",
        "train_generator = train_datagen.flow_from_directory(\n",
        "        train_Path ,  # this is the target directory\n",
        "        target_size=(150, 150) ,  # all images will be resized to 150x150\n",
        "        batch_size=batch_size )# , class_mode = 'binary' )  # since we use binary_crossentropy loss, we need binary labels\n",
        "\n",
        "# this is a similar generator, for validation data\n",
        "validation_generator = test_datagen.flow_from_directory(\n",
        "        test_Path ,\n",
        "        target_size=(150, 150) , batch_size = batch_size  )#class_mode = 'binary')\n",
        "\n",
        "\n",
        "# print(train_generator)\n",
        "# print(validation_generator)\n",
        "model.fit_generator(\n",
        "        train_generator,\n",
        "        steps_per_epoch = 83 // batch_size,#2000\n",
        "        epochs = 15 ,\n",
        "        validation_data = validation_generator ,\n",
        "        validation_steps = 21 // batch_size ,\n",
        "        callbacks = [checkpoint] ,\n",
        "        shuffle= True )#432\n",
        "\n",
        "# model.history.history[\"val_accuracy\"]\n",
        "#Plotting the training and validation loss\n",
        "# print(model.history.history.keys())\n",
        "f, ax=plt.subplots(2,1) #Creates 2 subplots under 1 column\n",
        "\n",
        "#Assigning the first subplot to graph training loss and validation loss\n",
        "ax[0].plot(model.history.history['loss'],color='b',label='Training Loss')\n",
        "ax[0].plot(model.history.history['val_loss'],color='r',label='Validation Loss')\n",
        "ax[0].set_title(\"Loss\")\n",
        "\n",
        "#Plotting the training accuracy and validation accuracy\n",
        "ax[1].plot(model.history.history['accuracy'],color='b',label='Training  Accuracy')\n",
        "ax[1].plot(model.history.history['val_accuracy'],color='r',label='Validation Accuracy')\n",
        "ax[1].set_title(\"Acc\")\n",
        "\n",
        "plt.legend(loc='upper center', bbox_to_anchor=(0.5, -0.05),\n",
        "          fancybox=True, shadow=True, ncol=5)        \n",
        "\n"
      ]
    },
    {
      "cell_type": "code",
      "source": [
        "print()\n",
        "base_path  = \"/content/drive/MyDrive/Github_Dir/Docket_Processo/Dataset/Simplest/\"\n"
      ],
      "metadata": {
        "colab": {
          "base_uri": "https://localhost:8080/"
        },
        "id": "el6HDziii69l",
        "outputId": "72183053-1433-4d10-fb38-426db43a4433"
      },
      "execution_count": 36,
      "outputs": [
        {
          "output_type": "stream",
          "name": "stdout",
          "text": [
            "\n"
          ]
        }
      ]
    },
    {
      "cell_type": "code",
      "source": [
        "name = base_path + f\"AlexNet{tentativa_Número}_val_acc-{max(model.history.history['val_accuracy'])}\"\n",
        "f.savefig(name+\".jpg\")\n",
        "model.save(name+\".h5\")"
      ],
      "metadata": {
        "id": "DUvDeAh7RqhP"
      },
      "execution_count": 52,
      "outputs": []
    }
  ]
}